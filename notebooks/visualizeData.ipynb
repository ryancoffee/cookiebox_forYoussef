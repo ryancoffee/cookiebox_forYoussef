{
 "cells": [
  {
   "cell_type": "markdown",
   "id": "5281a308",
   "metadata": {},
   "source": [
    "### Read from HDF5 files"
   ]
  },
  {
   "cell_type": "code",
   "execution_count": null,
   "id": "afaa883b",
   "metadata": {},
   "outputs": [],
   "source": [
    "%matplotlib notebook\n",
    "import sys, os\n",
    "module_path = os.path.abspath(os.path.join('../..'))\n",
    "if module_path not in sys.path:\n",
    "    sys.path.append(module_path)\n",
    "from cookiebox_forYoussef.src.h5todatasets import *\n",
    "import matplotlib.pyplot as plt\n",
    "from sklearn.model_selection import train_test_split\n",
    "from sklearn.preprocessing import OneHotEncoder\n",
    "import glob\n",
    "\n",
    "FPATH = '/home/ynashed/workspace/data/cookiebox/*.h5'\n",
    "data_files = glob.glob(FPATH)\n",
    "X = []\n",
    "Y = []\n",
    "for fname in data_files:\n",
    "    f = h5py.File(fname,'r')\n",
    "    imkeys = [i for i in list(f.keys()) if re.match('^img\\d+',i)]\n",
    "    for imkey in imkeys:\n",
    "        carrier = f[imkey].attrs['carrier']\n",
    "        h = f[imkey]['hist'][()]\n",
    "        phases = [phase2id(carrier + f[imkey].attrs['ephases'][i]) for i in range(f[imkey].attrs['npulses'])]\n",
    "        X.append(h)\n",
    "        Y.append(phases)\n",
    "    f.close()\n",
    "X = np.array(X)\n",
    "targets = np.array([len(y) for y in Y])[...,np.newaxis]\n",
    "y = OneHotEncoder(sparse=False).fit_transform(targets)\n",
    "print(X.shape, y.shape)\n",
    "\n",
    "\n",
    "X_train, X_test, y_train, y_test = train_test_split(X, y, test_size=0.2, random_state=42)"
   ]
  },
  {
   "cell_type": "markdown",
   "id": "080ba9bf",
   "metadata": {},
   "source": [
    "### Visualize an example"
   ]
  },
  {
   "cell_type": "code",
   "execution_count": null,
   "id": "b5581a4a",
   "metadata": {
    "scrolled": true
   },
   "outputs": [],
   "source": [
    "dindex = np.random.choice(np.arange(X_train.shape[0]))\n",
    "data = X_train[dindex]\n",
    "\n",
    "print(data.dtype)\n",
    "\n",
    "fig = plt.figure()\n",
    "ax = fig.add_subplot(111)\n",
    "img = ax.imshow(data)\n",
    "ax.set_aspect('auto')\n",
    "fig.colorbar(img, ax=ax)\n",
    "\n",
    "print(y_train[dindex])"
   ]
  },
  {
   "cell_type": "markdown",
   "id": "f04243f6",
   "metadata": {},
   "source": [
    "### Let's try a baseline bi-directional LSTM model"
   ]
  },
  {
   "cell_type": "code",
   "execution_count": null,
   "id": "90c7b4f9",
   "metadata": {},
   "outputs": [],
   "source": [
    "from tensorflow import keras\n",
    "from tensorflow.keras import layers, utils\n",
    "\n",
    "X_train_normalized = utils.normalize(X_train, axis=1)\n",
    "\n",
    "nclasses = y_train.shape[1]\n",
    "nenergies = X_train_normalized.shape[1]\n",
    "nangles = X_train_normalized.shape[2]\n",
    "nvocab = X_train_normalized.max()\n",
    "\n",
    "# Input for variable-length sequences of integers\n",
    "inputs = keras.Input(shape=(nenergies, nangles))\n",
    "x = inputs\n",
    "# Embed each integer in a 3-dimensional vector\n",
    "# x = layers.Embedding(nvocab, 3, input_length=nenergies)(x)\n",
    "# Add 2 bidirectional LSTMs\n",
    "# x = layers.Bidirectional(layers.CuDNNLSTM(64, return_sequences=True))(x)\n",
    "x = layers.Bidirectional(layers.CuDNNLSTM(64))(x)\n",
    "# Add a classifier\n",
    "outputs = layers.Dense(nclasses, activation=\"softmax\")(x)\n",
    "model = keras.Model(inputs, outputs)\n",
    "model.summary()\n",
    "\n",
    "model.compile(\"adam\", \"categorical_crossentropy\", metrics=[\"accuracy\"])\n",
    "model.fit(X_train_normalized, y_train, batch_size=32, epochs=2)"
   ]
  }
 ],
 "metadata": {
  "kernelspec": {
   "display_name": "Python 3",
   "language": "python",
   "name": "python3"
  },
  "language_info": {
   "codemirror_mode": {
    "name": "ipython",
    "version": 3
   },
   "file_extension": ".py",
   "mimetype": "text/x-python",
   "name": "python",
   "nbconvert_exporter": "python",
   "pygments_lexer": "ipython3",
   "version": "3.9.2"
  }
 },
 "nbformat": 4,
 "nbformat_minor": 5
}
